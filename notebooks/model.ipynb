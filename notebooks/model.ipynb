{
 "cells": [
  {
   "cell_type": "markdown",
   "metadata": {},
   "source": [
    "## Setup\n",
    "- load train and test datasets, create TensorFlow Datasets from them\n",
    "- enable eager execution for TF for easier prototyping\n",
    "- define main architecutre params"
   ]
  },
  {
   "cell_type": "code",
   "execution_count": 1,
   "metadata": {},
   "outputs": [],
   "source": [
    "%load_ext autoreload\n",
    "%autoreload 2\n",
    "\n",
    "from __future__ import absolute_import, division, print_function\n",
    "\n",
    "import numpy as np\n",
    "import tensorflow as tf\n",
    "import skimage\n",
    "\n",
    "from src.data_utils import Dataset\n",
    "from src.network import unet_3d\n",
    "\n",
    "tf.enable_eager_execution()"
   ]
  },
  {
   "cell_type": "code",
   "execution_count": 25,
   "metadata": {},
   "outputs": [
    {
     "name": "stdout",
     "output_type": "stream",
     "text": [
      "The autoreload extension is already loaded. To reload it, use:\n",
      "  %reload_ext autoreload\n"
     ]
    }
   ],
   "source": [
    "%load_ext autoreload\n",
    "%autoreload 2\n",
    "\n",
    "from __future__ import absolute_import, division, print_function\n",
    "\n",
    "import numpy as np\n",
    "import tensorflow as tf\n",
    "from matplotlib import pyplot as plt\n",
    "\n",
    "from src.data_utils import Dataset\n",
    "from src.network import unet_3d\n",
    "\n",
    "tf.enable_eager_execution()\n",
    "\n",
    "train_dataset = Dataset.load_dataset('../data/processed/train_dataset.pckl')\n",
    "test_dataset = Dataset.load_dataset('../data/processed/test_dataset.pckl')\n",
    "x_train = [p.scans for p in train_dataset.patients.values()]\n",
    "y_train = [p.seg for p in train_dataset.patients.values()]\n",
    "x_test = [p.scans for p in test_dataset.patients.values()]\n",
    "y_test = [p.seg for p in test_dataset.patients.values()]\n",
    "\n",
    "i = 28\n",
    "inputs = x_train[i]\n",
    "outputs = y_train[i]\n",
    "\n",
    "# turn them into tensors\n",
    "inputs = tf.constant(inputs.reshape((1, inputs.shape[0], inputs.shape[1], inputs.shape[2], 1)))\n",
    "outputs = tf.constant(outputs)"
   ]
  },
  {
   "cell_type": "code",
   "execution_count": 26,
   "metadata": {},
   "outputs": [
    {
     "name": "stdout",
     "output_type": "stream",
     "text": [
      "conv1: (1, 24, 128, 128, 16)\n",
      "conv2: (1, 24, 128, 128, 32)\n",
      "maxpool layer: (1, 12, 64, 64, 32)\n",
      "conv1: (1, 12, 64, 64, 32)\n",
      "conv2: (1, 12, 64, 64, 64)\n",
      "maxpool layer: (1, 6, 32, 32, 64)\n",
      "conv1: (1, 6, 32, 32, 64)\n",
      "conv2: (1, 6, 32, 32, 128)\n",
      "maxpool layer: (1, 3, 16, 16, 128)\n",
      "conv1: (1, 3, 16, 16, 128)\n",
      "conv2: (1, 3, 16, 16, 256)\n",
      "upconv layer: (1, 6, 32, 32, 256)\n",
      "concat layer: (1, 6, 32, 32, 128)\n",
      "up_conv layer1: (1, 6, 32, 32, 128)\n",
      "up_conv layer2: (1, 6, 32, 32, 128)\n",
      "upconv layer: (1, 12, 64, 64, 128)\n",
      "concat layer: (1, 12, 64, 64, 64)\n",
      "up_conv layer1: (1, 12, 64, 64, 64)\n",
      "up_conv layer2: (1, 12, 64, 64, 64)\n",
      "upconv layer: (1, 24, 128, 128, 64)\n",
      "concat layer: (1, 24, 128, 128, 32)\n",
      "up_conv layer1: (1, 24, 128, 128, 32)\n",
      "up_conv layer2: (1, 24, 128, 128, 32)\n",
      "output layer: (1, 24, 128, 128, 3)\n"
     ]
    }
   ],
   "source": [
    "y_pred = unet_3d(inputs)\n"
   ]
  },
  {
   "cell_type": "code",
   "execution_count": 27,
   "metadata": {},
   "outputs": [
    {
     "data": {
      "text/plain": [
       "<tf.Tensor: id=5217, shape=(), dtype=float32, numpy=1.2470297>"
      ]
     },
     "execution_count": 27,
     "metadata": {},
     "output_type": "execute_result"
    }
   ],
   "source": [
    "class_weights = tf.constant([[1.0, 200.0, 200.0]])\n",
    "w = tf.gather(class_weights, outputs)\n",
    "tf.losses.softmax_cross_entropy(outputs, y_pred.numpy()[0,:,:,:,:])"
   ]
  },
  {
   "cell_type": "code",
   "execution_count": 157,
   "metadata": {},
   "outputs": [
    {
     "name": "stderr",
     "output_type": "stream",
     "text": [
      "/home/daniel/.virtualenvs/tf/lib/python3.5/site-packages/tensorflow/python/client/session.py:1702: UserWarning: An interactive session is already active. This can cause out-of-memory errors in some cases. You must explicitly call `InteractiveSession.close()` to release resources held by the other session(s).\n",
      "  warnings.warn('An interactive session is already active. This can '\n"
     ]
    },
    {
     "data": {
      "text/plain": [
       "<tf.Tensor: id=5112, shape=(), dtype=float32, numpy=0.77875894>"
      ]
     },
     "execution_count": 157,
     "metadata": {},
     "output_type": "execute_result"
    }
   ],
   "source": [
    "import  tensorflow as tf\n",
    "import numpy as np\n",
    "\n",
    "np.random.seed(123)\n",
    "sess = tf.InteractiveSession()\n",
    "\n",
    "# let's say we have the logits and labels of a batch of size 6 with 5 classes\n",
    "logits = tf.constant(np.random.randint(0, 10, 30).reshape(6, 5), dtype=tf.float32)\n",
    "labels = tf.constant(np.random.randint(0, 5, 6), dtype=tf.int32)\n",
    "\n",
    "# specify some class weightings\n",
    "class_weights = tf.constant([0.3, 0.1, 0.2, 0.3, 0.1])\n",
    "\n",
    "# specify the weights for each sample in the batch (without having to compute the onehot label matrix)\n",
    "weights = tf.gather(class_weights, labels)\n",
    "\n",
    "# compute the loss\n",
    "tf.losses.sparse_softmax_cross_entropy(labels, logits, weights)"
   ]
  }
 ],
 "metadata": {
  "kernelspec": {
   "display_name": "tf",
   "language": "python",
   "name": "tf"
  },
  "language_info": {
   "codemirror_mode": {
    "name": "ipython",
    "version": 3
   },
   "file_extension": ".py",
   "mimetype": "text/x-python",
   "name": "python",
   "nbconvert_exporter": "python",
   "pygments_lexer": "ipython3",
   "version": "3.5.2"
  }
 },
 "nbformat": 4,
 "nbformat_minor": 2
}
