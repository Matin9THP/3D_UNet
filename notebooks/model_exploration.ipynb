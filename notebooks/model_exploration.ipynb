{
 "cells": [
  {
   "cell_type": "markdown",
   "metadata": {},
   "source": [
    "## Setup\n",
    "- load train and test datasets, create TensorFlow Datasets from them\n",
    "- define main architecutre params"
   ]
  },
  {
   "cell_type": "code",
   "execution_count": 2,
   "metadata": {},
   "outputs": [],
   "source": [
    "%load_ext autoreload\n",
    "%autoreload 2\n",
    "\n",
    "from __future__ import absolute_import, division, print_function\n",
    "\n",
    "import logging\n",
    "import numpy as np\n",
    "import tensorflow as tf\n",
    "import tensorflow.contrib.eager as tfe\n",
    "import skimage\n",
    "\n",
    "from src.data_utils import Dataset\n",
    "from src.network import unet_3d\n",
    "\n",
    "# tf.enable_eager_execution()\n",
    "\n",
    "# get TF logger - set it to info for more tracking process\n",
    "log = logging.getLogger('tensorflow')\n",
    "log.setLevel(logging.DEBUG)\n",
    "\n",
    "BATCH_SIZE = 2\n",
    "DEPTH = 3\n",
    "N_BASE_FILTERS = 4\n",
    "NUM_CLASSES = 3\n",
    "\n",
    "WH = 128\n",
    "MAX_DEPTH = 32\n",
    "CLASS_WEIGHTS = np.array([0.00444413, 0.69519929, 0.30035659])\n",
    "\n",
    "TRAIN_N = 70\n",
    "TEST_N = 10\n",
    "EPOCHS = 1"
   ]
  },
  {
   "cell_type": "code",
   "execution_count": 3,
   "metadata": {},
   "outputs": [],
   "source": [
    "train_dataset = Dataset.load_dataset(\n",
    "    '../data/processed/train_dataset.pckl'\n",
    ").create_tf_dataset().shuffle(50).repeat().padded_batch(\n",
    "    batch_size=BATCH_SIZE,\n",
    "    padded_shapes=([MAX_DEPTH, WH, WH, 1], [MAX_DEPTH, WH, WH, NUM_CLASSES]))\n",
    "\n",
    "test_dataset = Dataset.load_dataset(\n",
    "    '../data/processed/test_dataset.pckl'\n",
    ").create_tf_dataset().padded_batch(\n",
    "    batch_size=1,\n",
    "    padded_shapes=([MAX_DEPTH, WH, WH, 1], [MAX_DEPTH, WH, WH, NUM_CLASSES]))\n",
    "\n",
    "# setup train and test dataset iterator objects\n",
    "iterator = tf.data.Iterator.from_structure(\n",
    "    train_dataset.output_types,\n",
    "    train_dataset.output_shapes,\n",
    ")\n",
    "training_init_op = iterator.make_initializer(train_dataset, name='train_init_op')\n",
    "test_init_op = iterator.make_initializer(test_dataset, name='test_init_op')\n",
    "\n",
    "# first element is scans, second is target, i.e. segmentation\n",
    "next_element = iterator.get_next()"
   ]
  },
  {
   "cell_type": "code",
   "execution_count": 4,
   "metadata": {},
   "outputs": [
    {
     "name": "stdout",
     "output_type": "stream",
     "text": [
      "DEBUG:tensorflow:conv1: (?, 32, 128, 128, 4)\n",
      "DEBUG:tensorflow:conv2: (?, 32, 128, 128, 8)\n",
      "DEBUG:tensorflow:maxpool layer: (?, 16, 64, 64, 8)\n",
      "DEBUG:tensorflow:conv1: (?, 16, 64, 64, 8)\n",
      "DEBUG:tensorflow:conv2: (?, 16, 64, 64, 16)\n",
      "DEBUG:tensorflow:maxpool layer: (?, 8, 32, 32, 16)\n",
      "DEBUG:tensorflow:conv1: (?, 8, 32, 32, 16)\n",
      "DEBUG:tensorflow:conv2: (?, 8, 32, 32, 32)\n",
      "DEBUG:tensorflow:upconv layer: (?, 16, 64, 64, 32)\n",
      "DEBUG:tensorflow:concat layer: (?, 16, 64, 64, 16)\n",
      "DEBUG:tensorflow:up_conv layer1: (?, 16, 64, 64, 16)\n",
      "DEBUG:tensorflow:up_conv layer2 : (?, 16, 64, 64, 16)\n",
      "DEBUG:tensorflow:upconv layer: (?, 32, 128, 128, 16)\n",
      "DEBUG:tensorflow:concat layer: (?, 32, 128, 128, 8)\n",
      "DEBUG:tensorflow:up_conv layer1: (?, 32, 128, 128, 8)\n",
      "DEBUG:tensorflow:up_conv layer2 : (?, 32, 128, 128, 8)\n",
      "DEBUG:tensorflow:output layer:: (?, 32, 128, 128, 3)\n",
      "INFO:tensorflow:Epoch: 0, loss: 0.216, training IOU: 21.905%\n",
      "INFO:tensorflow:Epoch: 50, loss: 0.053, training IOU: 20.533%\n",
      "Average test set IOU over 10 iterations is 21.09%\n",
      "Model saved in path: /tmp/model.ckpt\n"
     ]
    }
   ],
   "source": [
    "# batch normalisation uses population mean/var at testing\n",
    "train_phase = tf.placeholder(tf.bool, name=\"is_training\")\n",
    "\n",
    "# create the neural network model\n",
    "logits = unet_3d(\n",
    "    next_element[0],\n",
    "    training=train_phase,\n",
    "    depth=DEPTH,\n",
    "    n_base_filters=N_BASE_FILTERS,\n",
    "    num_classes=NUM_CLASSES\n",
    ")\n",
    "\n",
    "\n",
    "# weighted softmax, see https://stackoverflow.com/a/44563055\n",
    "class_weights = tf.cast(tf.constant(CLASS_WEIGHTS), tf.float32)\n",
    "class_weights = tf.reduce_sum(\n",
    "    tf.cast(next_element[0], tf.float32) * class_weights, axis=-1\n",
    ")\n",
    "loss = tf.losses.softmax_cross_entropy(\n",
    "    logits=logits,\n",
    "    onehot_labels=next_element[1],\n",
    "    weights=class_weights\n",
    ")\n",
    "\n",
    "# as per TF batch_norm docs and also following https://goo.gl/1UVeYK\n",
    "update_ops = tf.get_collection(tf.GraphKeys.UPDATE_OPS)\n",
    "with tf.control_dependencies(update_ops):\n",
    "    train_op = tf.train.AdamOptimizer().minimize(loss)\n",
    "\n",
    "# get mean IOU (channel last tensors)\n",
    "prediction = tf.argmax(logits, axis=-1)\n",
    "labels = tf.argmax(next_element[1], -1)\n",
    "iou, conf_mat = tf.metrics.mean_iou(\n",
    "    labels=labels,\n",
    "    predictions=tf.cast(prediction, tf.int32),\n",
    "    num_classes=NUM_CLASSES\n",
    ")\n",
    "\n",
    "tf.identity(prediction, 'prediction')\n",
    "tf.identity(iou, 'iou')\n",
    "\n",
    "# initialise session\n",
    "sess = tf.InteractiveSession()\n",
    "sess.run(tf.global_variables_initializer())\n",
    "sess.run(tf.local_variables_initializer())\n",
    "sess.run(training_init_op)\n",
    "saver = tf.train.Saver()\n",
    "\n",
    "# run the training\n",
    "for i in range(EPOCHS * TRAIN_N):\n",
    "    # get mean IOU, idea taken from: https://stackoverflow.com/a/46414395\n",
    "    l, _, _, _ = sess.run([loss, train_op, iou, conf_mat],\n",
    "                          feed_dict={train_phase: True})\n",
    "    miou = sess.run([iou])\n",
    "    if i % 50 == 0:\n",
    "        log.info(\"Epoch: {}, loss: {:.3f}, training IOU: {:.3f}%\".format(\n",
    "            i, l, miou[0] * 100))\n",
    "\n",
    "# re-initialize the iterator, but this time with test data\n",
    "sess.run(test_init_op)\n",
    "avg_miou = 0\n",
    "for i in range(TEST_N):\n",
    "    miou, pred = sess.run([iou, prediction], feed_dict={train_phase: False})\n",
    "    avg_miou += miou\n",
    "\n",
    "print(\n",
    "    \"Average test set IOU over {} iterations is {:.2f}%\".format(\n",
    "        TEST_N, (avg_miou / TEST_N) * 100))\n",
    "\n",
    "save_path = saver.save(sess, \"/tmp/model.ckpt\")\n",
    "print(\"Model saved in path: %s\" % save_path)"
   ]
  },
  {
   "cell_type": "code",
   "execution_count": 7,
   "metadata": {},
   "outputs": [
    {
     "name": "stdout",
     "output_type": "stream",
     "text": [
      "INFO:tensorflow:Restoring parameters from /tmp/model.ckpt\n"
     ]
    }
   ],
   "source": [
    "import tensorflow as tf\n",
    "saver = tf.train.import_meta_graph('/tmp/model.ckpt.meta')\n",
    "saver.restore(sess, tf.train.latest_checkpoint('/tmp/'))\n",
    "graph = tf.get_default_graph()\n",
    "test_init_op = graph.get_operation_by_name(\"test_data:0\")\n",
    "sess.run(test_init_op)\n",
    "y_pred, y_true = sess.run([prediction, labels], feed_dict={train_phase: False})    "
   ]
  },
  {
   "cell_type": "code",
   "execution_count": 25,
   "metadata": {},
   "outputs": [],
   "source": [
    "import matplotlib.pyplot as plt\n",
    "from IPython.display import display, clear_output\n",
    "\n",
    "sess.run(test_init_op)\n",
    "y_pred, y_true = sess.run([prediction, labels], feed_dict={train_phase: False})    \n"
   ]
  },
  {
   "cell_type": "code",
   "execution_count": 62,
   "metadata": {},
   "outputs": [
    {
     "data": {
      "image/png": "[encoded data removed]",
      "text/plain": [
       "<matplotlib.figure.Figure at 0x7fcac45a6908>"
      ]
     },
     "metadata": {},
     "output_type": "display_data"
    },
    {
     "data": {
      "image/png": "[encoded data removed]",
      "text/plain": [
       "<matplotlib.figure.Figure at 0x7fcac45a6908>"
      ]
     },
     "metadata": {},
     "output_type": "display_data"
    }
   ],
   "source": [
    "i = 1\n",
    "p=y_pred[i] \n",
    "t=y_true[i]\n",
    "ys = np.concatenate((p, t), axis=2)\n",
    "fig, ax = plt.subplots()\n",
    "for i, scan in enumerate(ys):\n",
    "    plt.imshow(scan, cmap=plt.cm.bone)\n",
    "    plt.title('Predicted                                   Truth')\n",
    "    clear_output(wait=True)\n",
    "    display(fig)\n",
    "plt.show()"
   ]
  }
 ],
 "metadata": {
  "kernelspec": {
   "display_name": "tf",
   "language": "python",
   "name": "tf"
  },
  "language_info": {
   "codemirror_mode": {
    "name": "ipython",
    "version": 3
   },
   "file_extension": ".py",
   "mimetype": "text/x-python",
   "name": "python",
   "nbconvert_exporter": "python",
   "pygments_lexer": "ipython3",
   "version": "3.5.2"
  }
 },
 "nbformat": 4,
 "nbformat_minor": 2
}
